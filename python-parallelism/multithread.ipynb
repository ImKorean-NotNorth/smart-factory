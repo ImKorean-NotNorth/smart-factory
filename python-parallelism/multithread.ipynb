{
 "cells": [
  {
   "cell_type": "markdown",
   "metadata": {},
   "source": [
    "# Multithreading"
   ]
  },
  {
   "cell_type": "code",
   "execution_count": 1,
   "metadata": {},
   "outputs": [],
   "source": [
    "\n",
    "import threading\n",
    "import os\n",
    "import queue\n",
    "from tqdm import tqdm\n",
    "from functools import partial\n",
    "from pytube import YouTube\n",
    "import time\n",
    "from threading import Lock\n",
    "import concurrent.futures\n"
   ]
  },
  {
   "cell_type": "markdown",
   "metadata": {},
   "source": [
    "### Parallelism Concept"
   ]
  },
  {
   "cell_type": "markdown",
   "metadata": {},
   "source": [
    "- Sequential vs Parallel"
   ]
  },
  {
   "cell_type": "code",
   "execution_count": 2,
   "metadata": {},
   "outputs": [],
   "source": [
    "def say_numbers():\n",
    "    # Count 1~5\n",
    "    for i in range(1,6,1):\n",
    "        print(f\"Number: #{i}\")\n",
    "        time.sleep(0.1)\n",
    "\n",
    "def say_alphabet():\n",
    "    # Count a~e\n",
    "    for i in range(ord(\"a\"), ord(\"f\")):\n",
    "        print(f\"Alphabet: {chr(i)}\")\n",
    "        time.sleep(0.1)"
   ]
  },
  {
   "cell_type": "code",
   "execution_count": 3,
   "metadata": {},
   "outputs": [
    {
     "name": "stdout",
     "output_type": "stream",
     "text": [
      "----------Sequential execution----------\n",
      "Number: #1\n",
      "Number: #2\n",
      "Number: #3\n",
      "Number: #4\n",
      "Number: #5\n",
      "Alphabet: a\n",
      "Alphabet: b\n",
      "Alphabet: c\n",
      "Alphabet: d\n",
      "Alphabet: e\n",
      "execution time : 1.004178524017334\n"
     ]
    }
   ],
   "source": [
    "\n",
    "print(\"-\"*10+\"Sequential execution\"+\"-\"*10)\n",
    "seq = time.time()\n",
    "say_numbers()\n",
    "say_alphabet()\n",
    "print(\"execution time :\", time.time() - seq)\n"
   ]
  },
  {
   "cell_type": "code",
   "execution_count": 4,
   "metadata": {},
   "outputs": [
    {
     "name": "stdout",
     "output_type": "stream",
     "text": [
      "----------Parallel execution----------\n",
      "Number: #1\n",
      "Alphabet: a\n",
      "Number: #2\n",
      "Alphabet: b\n",
      "Number: #3\n",
      "Alphabet: c\n",
      "Number: #4\n",
      "Alphabet: d\n",
      "Number: #5\n",
      "Alphabet: e\n",
      "execution time : 0.5040647983551025\n"
     ]
    }
   ],
   "source": [
    "print(\"-\"*10+\"Parallel execution\"+\"-\"*10)\n",
    "par = time.time()\n",
    "t1 = threading.Thread(target=say_numbers)\n",
    "t2 = threading.Thread(target=say_alphabet)\n",
    "t1.start()\n",
    "t2.start()\n",
    "t1.join()\n",
    "t2.join()\n",
    "print(\"execution time :\", time.time() - par)"
   ]
  },
  {
   "cell_type": "markdown",
   "metadata": {},
   "source": [
    "- Accessing memory"
   ]
  },
  {
   "cell_type": "code",
   "execution_count": 5,
   "metadata": {},
   "outputs": [],
   "source": [
    "import multiprocessing\n",
    "\n",
    "def append_one(l):\n",
    "    l.append(1)\n",
    "\n",
    "def append_two(l):\n",
    "    l.append(2)"
   ]
  },
  {
   "cell_type": "code",
   "execution_count": 6,
   "metadata": {},
   "outputs": [
    {
     "name": "stdout",
     "output_type": "stream",
     "text": [
      "----------Multi-threading----------\n",
      "Multi-threading result:[1, 2]\n"
     ]
    }
   ],
   "source": [
    "# Different threads are able to access on list address\n",
    "print(\"-\"*10+\"Multi-threading\"+\"-\"*10)\n",
    "list1 = []\n",
    "t1 = threading.Thread(target=append_one, args=(list1,))\n",
    "t2 = threading.Thread(target=append_two, args=(list1,))\n",
    "t1.start()\n",
    "t2.start()\n",
    "t1.join()\n",
    "t2.join()\n",
    "print(f\"Multi-threading result:{list1}\")"
   ]
  },
  {
   "cell_type": "code",
   "execution_count": 7,
   "metadata": {},
   "outputs": [
    {
     "name": "stdout",
     "output_type": "stream",
     "text": [
      "----------Multi-processing----------\n",
      "Multi-processing result:[]\n"
     ]
    }
   ],
   "source": [
    "# Different processes can't.\n",
    "print(\"-\"*10+\"Multi-processing\"+\"-\"*10)\n",
    "list2 = []\n",
    "process1 = multiprocessing.Process(target=append_one, args=(list2,))\n",
    "process2 = multiprocessing.Process(target=append_two, args=(list2,))\n",
    "process1.start()\n",
    "process2.start()\n",
    "process1.join()\n",
    "process2.join()\n",
    "print(f\"Multi-processing result:{list2}\")"
   ]
  },
  {
   "cell_type": "markdown",
   "metadata": {},
   "source": [
    "### Synchronization problem (v3.9 and previous only)\n",
    "> Expected result: 5000000\n",
    "\n",
    "* Using unsafe variable: would show irregular result\n",
    "* Using thread-safe variable: would show expected result\n",
    "* Note: Not reproducible after Python3.10\n",
    "    * Installing Python3.9\n",
    "    ```\n",
    "    sudo add-apt-repository ppa:deadsnakes/ppa\n",
    "    sudo apt install python3.9 python3.9-dev python3.9-venv\n",
    "    python3.9 -m venv .venv39\n",
    "    .venv39/bin/pip install -r requirements.txt\n",
    "    ```\n"
   ]
  },
  {
   "cell_type": "code",
   "execution_count": 8,
   "metadata": {},
   "outputs": [
    {
     "name": "stdout",
     "output_type": "stream",
     "text": [
      "----------Using unsafe variable----------\n",
      "Final result: 5000000\n"
     ]
    }
   ],
   "source": [
    "shared_variable = 0\n",
    "\n",
    "def increment_shared_variable():\n",
    "    global shared_variable\n",
    "    for _ in range(1000000):\n",
    "        shared_variable += 1\n",
    "\n",
    "print(\"-\"*10+\"Using unsafe variable\"+\"-\"*10)\n",
    "\n",
    "threads = []\n",
    "for _ in range(5):\n",
    "    t = threading.Thread(target=increment_shared_variable)\n",
    "    threads.append(t)\n",
    "\n",
    "for t in threads:\n",
    "    t.start()\n",
    "\n",
    "for t in threads:\n",
    "    t.join()\n",
    "\n",
    "print(\"Final result:\", shared_variable)"
   ]
  },
  {
   "cell_type": "code",
   "execution_count": null,
   "metadata": {},
   "outputs": [
    {
     "name": "stdout",
     "output_type": "stream",
     "text": [
      "----------Using mutex----------\n",
      "Final result: 5000000\n"
     ]
    }
   ],
   "source": [
    "shared_variable = 0\n",
    "\n",
    "# Thread-safe\n",
    "lock = threading.Lock()\n",
    "\n",
    "def increment_shared_variable():\n",
    "    global shared_variable\n",
    "    for _ in range(1000000):\n",
    "        # Mutex lock\n",
    "        lock.acquire()\n",
    "        #Lock 건다는게 무엇이지?\n",
    "        shared_variable += 1\n",
    "        # Mutex release\n",
    "        lock.release()\n",
    "\n",
    "print(\"-\"*10+\"Using mutex\"+\"-\"*10)\n",
    "\n",
    "threads = []\n",
    "for _ in range(5):\n",
    "    t = threading.Thread(target=increment_shared_variable)\n",
    "    threads.append(t)\n",
    "\n",
    "for t in threads:\n",
    "    t.start()\n",
    "\n",
    "for t in threads:\n",
    "    t.join()\n",
    "\n",
    "print(\"Final result:\", shared_variable)"
   ]
  },
  {
   "cell_type": "markdown",
   "metadata": {},
   "source": [
    "### `pytube` `tqdm` example - using variable typed Queue"
   ]
  },
  {
   "cell_type": "markdown",
   "metadata": {},
   "source": [
    "- UI thread"
   ]
  },
  {
   "cell_type": "code",
   "execution_count": 11,
   "metadata": {},
   "outputs": [],
   "source": [
    "def draw_ui(var):\n",
    "    print(\"UI thread starting ... PID:{}\".format(os.getpid()))\n",
    "    prev = 0\n",
    "    tqdm_bar = None\n",
    "    while True:\n",
    "        message = var.get()\n",
    "        if message[\"type\"] == \"on_progress\":\n",
    "            if tqdm_bar is None:\n",
    "                tqdm_bar = tqdm(total=100, desc=\"Downloading...\")\n",
    "            cur_rate = message[\"progress_rate\"]\n",
    "            tqdm_bar.update(int(cur_rate-prev))\n",
    "            prev = int(cur_rate)\n",
    "        elif message[\"type\"] == \"on_complete\":\n",
    "            if tqdm_bar is None:\n",
    "                tqdm_bar = tqdm(total=100, desc=\"Downloading...\")\n",
    "            tqdm_bar.update(100-prev)\n",
    "            tqdm_bar.close()\n",
    "            break"
   ]
  },
  {
   "cell_type": "markdown",
   "metadata": {},
   "source": [
    "- Download thread"
   ]
  },
  {
   "cell_type": "code",
   "execution_count": 12,
   "metadata": {},
   "outputs": [],
   "source": [
    "def on_progress(stream, chunk, bytes_remaining, var):\n",
    "    total_size = stream.filesize\n",
    "    bytes_downloaded = total_size - bytes_remaining\n",
    "    progress = (bytes_downloaded / total_size) * 100\n",
    "    var.put({\"type\":\"on_progress\", \"progress_rate\":progress})\n",
    "\n",
    "def on_complete(stream, file_handle, var):\n",
    "    var.put({\"type\":\"on_complete\"})\n",
    "\n",
    "def download(url, var):\n",
    "    print(\"Download thread starting ... PID:{}\".format(os.getpid()))\n",
    "    on_progress_with_Q = partial(on_progress, var=var)\n",
    "    on_complete_with_Q = partial(on_complete, var=var)\n",
    "    youtube_clip = YouTube(\n",
    "                        url,\n",
    "                        on_progress_callback=on_progress_with_Q,\n",
    "                        on_complete_callback=on_complete_with_Q)\n",
    "    youtube_stream = youtube_clip.streams.get_highest_resolution()\n",
    "    youtube_stream.download(\"videos\")"
   ]
  },
  {
   "cell_type": "markdown",
   "metadata": {},
   "source": [
    "- Multithreading"
   ]
  },
  {
   "cell_type": "code",
   "execution_count": 13,
   "metadata": {},
   "outputs": [
    {
     "name": "stdout",
     "output_type": "stream",
     "text": [
      "main process running ... PID:30690\n",
      "UI thread starting ... PID:30690\n",
      "Download thread starting ... PID:30690\n"
     ]
    },
    {
     "name": "stderr",
     "output_type": "stream",
     "text": [
      "Exception in thread Thread-19 (download):\n",
      "Traceback (most recent call last):\n",
      "  File \"/usr/lib/python3.10/threading.py\", line 1016, in _bootstrap_inner\n",
      "    self.run()\n",
      "  File \"/usr/lib/python3.10/threading.py\", line 953, in run\n",
      "    self._target(*self._args, **self._kwargs)\n",
      "  File \"/tmp/ipykernel_30690/35273307.py\", line 18, in download\n",
      "  File \"/home/park/workspace/intel-03/class02/smart-factory/.smart_factory/lib/python3.10/site-packages/pytube/__main__.py\", line 296, in streams\n",
      "    return StreamQuery(self.fmt_streams)\n",
      "  File \"/home/park/workspace/intel-03/class02/smart-factory/.smart_factory/lib/python3.10/site-packages/pytube/__main__.py\", line 176, in fmt_streams\n",
      "    stream_manifest = extract.apply_descrambler(self.streaming_data)\n",
      "  File \"/home/park/workspace/intel-03/class02/smart-factory/.smart_factory/lib/python3.10/site-packages/pytube/__main__.py\", line 160, in streaming_data\n",
      "    self.bypass_age_gate()\n",
      "  File \"/home/park/workspace/intel-03/class02/smart-factory/.smart_factory/lib/python3.10/site-packages/pytube/__main__.py\", line 257, in bypass_age_gate\n",
      "    innertube_response = innertube.player(self.video_id)\n",
      "  File \"/home/park/workspace/intel-03/class02/smart-factory/.smart_factory/lib/python3.10/site-packages/pytube/innertube.py\", line 448, in player\n",
      "    return self._call_api(endpoint, query, self.base_data)\n",
      "  File \"/home/park/workspace/intel-03/class02/smart-factory/.smart_factory/lib/python3.10/site-packages/pytube/innertube.py\", line 390, in _call_api\n",
      "    response = request._execute_request(\n",
      "  File \"/home/park/workspace/intel-03/class02/smart-factory/.smart_factory/lib/python3.10/site-packages/pytube/request.py\", line 37, in _execute_request\n",
      "    return urlopen(request, timeout=timeout)  # nosec\n",
      "  File \"/usr/lib/python3.10/urllib/request.py\", line 216, in urlopen\n",
      "    return opener.open(url, data, timeout)\n",
      "  File \"/usr/lib/python3.10/urllib/request.py\", line 525, in open\n",
      "    response = meth(req, response)\n",
      "  File \"/usr/lib/python3.10/urllib/request.py\", line 634, in http_response\n",
      "    response = self.parent.error(\n",
      "  File \"/usr/lib/python3.10/urllib/request.py\", line 563, in error\n",
      "    return self._call_chain(*args)\n",
      "  File \"/usr/lib/python3.10/urllib/request.py\", line 496, in _call_chain\n",
      "    result = func(*args)\n",
      "  File \"/usr/lib/python3.10/urllib/request.py\", line 643, in http_error_default\n",
      "    raise HTTPError(req.full_url, code, msg, hdrs, fp)\n",
      "urllib.error.HTTPError: HTTP Error 403: Forbidden\n"
     ]
    },
    {
     "ename": "KeyboardInterrupt",
     "evalue": "",
     "output_type": "error",
     "traceback": [
      "\u001b[0;31m---------------------------------------------------------------------------\u001b[0m",
      "\u001b[0;31mKeyboardInterrupt\u001b[0m                         Traceback (most recent call last)",
      "Cell \u001b[0;32mIn[13], line 14\u001b[0m\n\u001b[1;32m     11\u001b[0m t1\u001b[38;5;241m.\u001b[39mstart()\n\u001b[1;32m     12\u001b[0m t2\u001b[38;5;241m.\u001b[39mstart()\n\u001b[0;32m---> 14\u001b[0m \u001b[43mt1\u001b[49m\u001b[38;5;241;43m.\u001b[39;49m\u001b[43mjoin\u001b[49m\u001b[43m(\u001b[49m\u001b[43m)\u001b[49m\n\u001b[1;32m     15\u001b[0m shared_var\u001b[38;5;241m.\u001b[39mput(\u001b[38;5;28;01mNone\u001b[39;00m)\n\u001b[1;32m     16\u001b[0m t2\u001b[38;5;241m.\u001b[39mjoin()\n",
      "File \u001b[0;32m/usr/lib/python3.10/threading.py:1096\u001b[0m, in \u001b[0;36mThread.join\u001b[0;34m(self, timeout)\u001b[0m\n\u001b[1;32m   1093\u001b[0m     \u001b[38;5;28;01mraise\u001b[39;00m \u001b[38;5;167;01mRuntimeError\u001b[39;00m(\u001b[38;5;124m\"\u001b[39m\u001b[38;5;124mcannot join current thread\u001b[39m\u001b[38;5;124m\"\u001b[39m)\n\u001b[1;32m   1095\u001b[0m \u001b[38;5;28;01mif\u001b[39;00m timeout \u001b[38;5;129;01mis\u001b[39;00m \u001b[38;5;28;01mNone\u001b[39;00m:\n\u001b[0;32m-> 1096\u001b[0m     \u001b[38;5;28;43mself\u001b[39;49m\u001b[38;5;241;43m.\u001b[39;49m\u001b[43m_wait_for_tstate_lock\u001b[49m\u001b[43m(\u001b[49m\u001b[43m)\u001b[49m\n\u001b[1;32m   1097\u001b[0m \u001b[38;5;28;01melse\u001b[39;00m:\n\u001b[1;32m   1098\u001b[0m     \u001b[38;5;66;03m# the behavior of a negative timeout isn't documented, but\u001b[39;00m\n\u001b[1;32m   1099\u001b[0m     \u001b[38;5;66;03m# historically .join(timeout=x) for x<0 has acted as if timeout=0\u001b[39;00m\n\u001b[1;32m   1100\u001b[0m     \u001b[38;5;28mself\u001b[39m\u001b[38;5;241m.\u001b[39m_wait_for_tstate_lock(timeout\u001b[38;5;241m=\u001b[39m\u001b[38;5;28mmax\u001b[39m(timeout, \u001b[38;5;241m0\u001b[39m))\n",
      "File \u001b[0;32m/usr/lib/python3.10/threading.py:1116\u001b[0m, in \u001b[0;36mThread._wait_for_tstate_lock\u001b[0;34m(self, block, timeout)\u001b[0m\n\u001b[1;32m   1113\u001b[0m     \u001b[38;5;28;01mreturn\u001b[39;00m\n\u001b[1;32m   1115\u001b[0m \u001b[38;5;28;01mtry\u001b[39;00m:\n\u001b[0;32m-> 1116\u001b[0m     \u001b[38;5;28;01mif\u001b[39;00m \u001b[43mlock\u001b[49m\u001b[38;5;241;43m.\u001b[39;49m\u001b[43macquire\u001b[49m\u001b[43m(\u001b[49m\u001b[43mblock\u001b[49m\u001b[43m,\u001b[49m\u001b[43m \u001b[49m\u001b[43mtimeout\u001b[49m\u001b[43m)\u001b[49m:\n\u001b[1;32m   1117\u001b[0m         lock\u001b[38;5;241m.\u001b[39mrelease()\n\u001b[1;32m   1118\u001b[0m         \u001b[38;5;28mself\u001b[39m\u001b[38;5;241m.\u001b[39m_stop()\n",
      "\u001b[0;31mKeyboardInterrupt\u001b[0m: "
     ]
    }
   ],
   "source": [
    "# 코난 오브라이언\n",
    "url = \"https://www.youtube.com/watch?v=mAMN2ffEUBc\"\n",
    "\n",
    "print(\"main process running ... PID:{}\".format(os.getpid()))\n",
    "\n",
    "shared_var = queue.Queue()  # message_queue = multiprocessing.Queue()가 아니라 그냥 queue.Queue()로 사용\n",
    "\n",
    "t1 = threading.Thread(target=draw_ui, args=(shared_var,))\n",
    "t2 = threading.Thread(target=download, args=(url, shared_var,))\n",
    "\n",
    "t1.start()\n",
    "t2.start()\n",
    "\n",
    "t1.join()\n",
    "shared_var.put(None)\n",
    "t2.join()"
   ]
  },
  {
   "cell_type": "markdown",
   "metadata": {},
   "source": [
    "### `pytube` `tqdm` example - using variable typed thread-safe list\n",
    "\n",
    " * Duck Typing : \"If it walks like a duck and it quacks like a duck, then it must be a duck\"\n",
    "\n",
    "  <img src=\"./doc/duck-typing.png\" width=400>"
   ]
  },
  {
   "cell_type": "code",
   "execution_count": 14,
   "metadata": {},
   "outputs": [],
   "source": [
    "class ThreadSafeList:\n",
    "    def __init__(self):\n",
    "        self._list = []\n",
    "        self._lock = threading.Lock()\n",
    "\n",
    "    def append(self, item):\n",
    "        with self._lock:\n",
    "            self._list.append(item)\n",
    "\n",
    "    def pop(self, index=-1):\n",
    "        with self._lock:\n",
    "            return self._list.pop(index)\n",
    "\n",
    "    def __len__(self):\n",
    "        with self._lock:\n",
    "            return len(self._list)"
   ]
  },
  {
   "cell_type": "markdown",
   "metadata": {},
   "source": [
    "- UI function"
   ]
  },
  {
   "cell_type": "code",
   "execution_count": 16,
   "metadata": {},
   "outputs": [],
   "source": [
    "def draw_ui(shared_queue):\n",
    "    print(\"UI thread starting ... PID:{}\".format(os.getpid()), flush=True)\n",
    "    prev = 0\n",
    "    tqdm_bar = None\n",
    "    while True:\n",
    "        if len(shared_queue)>0:\n",
    "            message = shared_queue.pop()\n",
    "            if message[\"type\"] == \"on_progress\":\n",
    "                if tqdm_bar is None:\n",
    "                    tqdm_bar = tqdm(total=100, desc=\"Downloading...\")\n",
    "                cur_rate = message[\"progress_rate\"]\n",
    "                tqdm_bar.update(int(cur_rate-prev))\n",
    "                prev = int(cur_rate)\n",
    "            elif message[\"type\"] == \"on_complete\":\n",
    "                if tqdm_bar is None:\n",
    "                    tqdm_bar = tqdm(total=100, desc=\"Downloading...\")\n",
    "                tqdm_bar.update(100-prev)\n",
    "                tqdm_bar.close()\n",
    "                break"
   ]
  },
  {
   "cell_type": "markdown",
   "metadata": {},
   "source": [
    "- Downloading function"
   ]
  },
  {
   "cell_type": "code",
   "execution_count": 17,
   "metadata": {},
   "outputs": [],
   "source": [
    "def on_progress(stream, chunk, bytes_remaining, shared_queue):\n",
    "    total_size = stream.filesize\n",
    "    bytes_downloaded = total_size - bytes_remaining\n",
    "    progress = (bytes_downloaded / total_size) * 100\n",
    "    shared_queue.append({\"type\":\"on_progress\", \"progress_rate\":progress})\n",
    "\n",
    "def on_complete(stream, file_handle, shared_queue):\n",
    "    shared_queue.append({\"type\":\"on_complete\"})\n",
    "\n",
    "def download(url, shared_queue):\n",
    "    print(\"Download thread starting ... PID:{}\".format(os.getpid()), flush=True)\n",
    "    on_progress_with_Q = partial(on_progress, shared_queue=shared_queue)\n",
    "    on_complete_with_Q = partial(on_complete, shared_queue=shared_queue)\n",
    "    youtube_clip = YouTube(\n",
    "                        url,\n",
    "                        on_progress_callback=on_progress_with_Q,\n",
    "                        on_complete_callback=on_complete_with_Q)\n",
    "    youtube_stream = youtube_clip.streams.filter(\n",
    "                        adaptive=True, \n",
    "                        file_extension='mp4').first()\n",
    "    youtube_stream.download(\"videos\")"
   ]
  },
  {
   "cell_type": "markdown",
   "metadata": {},
   "source": [
    "- Multithreading"
   ]
  },
  {
   "cell_type": "code",
   "execution_count": 18,
   "metadata": {},
   "outputs": [
    {
     "name": "stdout",
     "output_type": "stream",
     "text": [
      "main process running ... PID:30690\n",
      "UI thread starting ... PID:30690\n",
      "Download thread starting ... PID:30690\n"
     ]
    },
    {
     "name": "stderr",
     "output_type": "stream",
     "text": [
      "Exception in thread Thread-21 (download):\n",
      "Traceback (most recent call last):\n",
      "  File \"/usr/lib/python3.10/threading.py\", line 1016, in _bootstrap_inner\n",
      "    self.run()\n",
      "  File \"/usr/lib/python3.10/threading.py\", line 953, in run\n",
      "    self._target(*self._args, **self._kwargs)\n",
      "  File \"/tmp/ipykernel_30690/1933445050.py\", line 18, in download\n",
      "  File \"/home/park/workspace/intel-03/class02/smart-factory/.smart_factory/lib/python3.10/site-packages/pytube/__main__.py\", line 296, in streams\n",
      "    return StreamQuery(self.fmt_streams)\n",
      "  File \"/home/park/workspace/intel-03/class02/smart-factory/.smart_factory/lib/python3.10/site-packages/pytube/__main__.py\", line 176, in fmt_streams\n",
      "    stream_manifest = extract.apply_descrambler(self.streaming_data)\n",
      "  File \"/home/park/workspace/intel-03/class02/smart-factory/.smart_factory/lib/python3.10/site-packages/pytube/__main__.py\", line 160, in streaming_data\n",
      "    self.bypass_age_gate()\n",
      "  File \"/home/park/workspace/intel-03/class02/smart-factory/.smart_factory/lib/python3.10/site-packages/pytube/__main__.py\", line 257, in bypass_age_gate\n",
      "    innertube_response = innertube.player(self.video_id)\n",
      "  File \"/home/park/workspace/intel-03/class02/smart-factory/.smart_factory/lib/python3.10/site-packages/pytube/innertube.py\", line 448, in player\n",
      "    return self._call_api(endpoint, query, self.base_data)\n",
      "  File \"/home/park/workspace/intel-03/class02/smart-factory/.smart_factory/lib/python3.10/site-packages/pytube/innertube.py\", line 390, in _call_api\n",
      "    response = request._execute_request(\n",
      "  File \"/home/park/workspace/intel-03/class02/smart-factory/.smart_factory/lib/python3.10/site-packages/pytube/request.py\", line 37, in _execute_request\n",
      "    return urlopen(request, timeout=timeout)  # nosec\n",
      "  File \"/usr/lib/python3.10/urllib/request.py\", line 216, in urlopen\n",
      "    return opener.open(url, data, timeout)\n",
      "  File \"/usr/lib/python3.10/urllib/request.py\", line 525, in open\n",
      "    response = meth(req, response)\n",
      "  File \"/usr/lib/python3.10/urllib/request.py\", line 634, in http_response\n",
      "    response = self.parent.error(\n",
      "  File \"/usr/lib/python3.10/urllib/request.py\", line 563, in error\n",
      "    return self._call_chain(*args)\n",
      "  File \"/usr/lib/python3.10/urllib/request.py\", line 496, in _call_chain\n",
      "    result = func(*args)\n",
      "  File \"/usr/lib/python3.10/urllib/request.py\", line 643, in http_error_default\n",
      "    raise HTTPError(req.full_url, code, msg, hdrs, fp)\n",
      "urllib.error.HTTPError: HTTP Error 403: Forbidden\n"
     ]
    },
    {
     "ename": "KeyboardInterrupt",
     "evalue": "",
     "output_type": "error",
     "traceback": [
      "\u001b[0;31m---------------------------------------------------------------------------\u001b[0m",
      "\u001b[0;31mKeyboardInterrupt\u001b[0m                         Traceback (most recent call last)",
      "Cell \u001b[0;32mIn[18], line 14\u001b[0m\n\u001b[1;32m     11\u001b[0m t1\u001b[38;5;241m.\u001b[39mstart()\n\u001b[1;32m     12\u001b[0m t2\u001b[38;5;241m.\u001b[39mstart()\n\u001b[0;32m---> 14\u001b[0m \u001b[43mt1\u001b[49m\u001b[38;5;241;43m.\u001b[39;49m\u001b[43mjoin\u001b[49m\u001b[43m(\u001b[49m\u001b[43m)\u001b[49m\n\u001b[1;32m     15\u001b[0m t2\u001b[38;5;241m.\u001b[39mjoin()\n\u001b[1;32m     16\u001b[0m shared_queue \u001b[38;5;241m=\u001b[39m \u001b[38;5;28;01mNone\u001b[39;00m\n",
      "File \u001b[0;32m/usr/lib/python3.10/threading.py:1096\u001b[0m, in \u001b[0;36mThread.join\u001b[0;34m(self, timeout)\u001b[0m\n\u001b[1;32m   1093\u001b[0m     \u001b[38;5;28;01mraise\u001b[39;00m \u001b[38;5;167;01mRuntimeError\u001b[39;00m(\u001b[38;5;124m\"\u001b[39m\u001b[38;5;124mcannot join current thread\u001b[39m\u001b[38;5;124m\"\u001b[39m)\n\u001b[1;32m   1095\u001b[0m \u001b[38;5;28;01mif\u001b[39;00m timeout \u001b[38;5;129;01mis\u001b[39;00m \u001b[38;5;28;01mNone\u001b[39;00m:\n\u001b[0;32m-> 1096\u001b[0m     \u001b[38;5;28;43mself\u001b[39;49m\u001b[38;5;241;43m.\u001b[39;49m\u001b[43m_wait_for_tstate_lock\u001b[49m\u001b[43m(\u001b[49m\u001b[43m)\u001b[49m\n\u001b[1;32m   1097\u001b[0m \u001b[38;5;28;01melse\u001b[39;00m:\n\u001b[1;32m   1098\u001b[0m     \u001b[38;5;66;03m# the behavior of a negative timeout isn't documented, but\u001b[39;00m\n\u001b[1;32m   1099\u001b[0m     \u001b[38;5;66;03m# historically .join(timeout=x) for x<0 has acted as if timeout=0\u001b[39;00m\n\u001b[1;32m   1100\u001b[0m     \u001b[38;5;28mself\u001b[39m\u001b[38;5;241m.\u001b[39m_wait_for_tstate_lock(timeout\u001b[38;5;241m=\u001b[39m\u001b[38;5;28mmax\u001b[39m(timeout, \u001b[38;5;241m0\u001b[39m))\n",
      "File \u001b[0;32m/usr/lib/python3.10/threading.py:1116\u001b[0m, in \u001b[0;36mThread._wait_for_tstate_lock\u001b[0;34m(self, block, timeout)\u001b[0m\n\u001b[1;32m   1113\u001b[0m     \u001b[38;5;28;01mreturn\u001b[39;00m\n\u001b[1;32m   1115\u001b[0m \u001b[38;5;28;01mtry\u001b[39;00m:\n\u001b[0;32m-> 1116\u001b[0m     \u001b[38;5;28;01mif\u001b[39;00m \u001b[43mlock\u001b[49m\u001b[38;5;241;43m.\u001b[39;49m\u001b[43macquire\u001b[49m\u001b[43m(\u001b[49m\u001b[43mblock\u001b[49m\u001b[43m,\u001b[49m\u001b[43m \u001b[49m\u001b[43mtimeout\u001b[49m\u001b[43m)\u001b[49m:\n\u001b[1;32m   1117\u001b[0m         lock\u001b[38;5;241m.\u001b[39mrelease()\n\u001b[1;32m   1118\u001b[0m         \u001b[38;5;28mself\u001b[39m\u001b[38;5;241m.\u001b[39m_stop()\n",
      "\u001b[0;31mKeyboardInterrupt\u001b[0m: "
     ]
    }
   ],
   "source": [
    "# One call away\n",
    "url = \"https://www.youtube.com/watch?v=BxuY9FET9Y4\"\n",
    "\n",
    "print(\"main process running ... PID:{}\".format(os.getpid()), flush=True)\n",
    "\n",
    "shared_queue = ThreadSafeList()\n",
    "\n",
    "t1 = threading.Thread(target=draw_ui, args=(shared_queue,))\n",
    "t2 = threading.Thread(target=download, args=(url, shared_queue,))\n",
    "\n",
    "t1.start()\n",
    "t2.start()\n",
    "\n",
    "t1.join()\n",
    "t2.join()\n",
    "shared_queue = None"
   ]
  }
 ],
 "metadata": {
  "kernelspec": {
   "display_name": "parallelism",
   "language": "python",
   "name": "parallelism"
  },
  "language_info": {
   "codemirror_mode": {
    "name": "ipython",
    "version": 3
   },
   "file_extension": ".py",
   "mimetype": "text/x-python",
   "name": "python",
   "nbconvert_exporter": "python",
   "pygments_lexer": "ipython3",
   "version": "3.10.12"
  },
  "orig_nbformat": 4
 },
 "nbformat": 4,
 "nbformat_minor": 2
}
