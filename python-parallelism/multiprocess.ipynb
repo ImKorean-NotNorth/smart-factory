{
 "cells": [
  {
   "cell_type": "markdown",
   "metadata": {},
   "source": [
    "# Multiprocessing\n",
    "\n",
    "Reference: https://docs.python.org/3/library/multiprocessing.html#multiprocessing-programming"
   ]
  },
  {
   "cell_type": "code",
   "execution_count": null,
   "metadata": {},
   "outputs": [
    {
     "name": "stdout",
     "output_type": "stream",
     "text": [
      "Collecting pytubefix\n",
      "  Downloading pytubefix-8.12.2-py3-none-any.whl (730 kB)\n",
      "\u001b[2K     \u001b[38;2;114;156;31m━━━━━━━━━━━━━━━━━━━━━━━━━━━━━━━━━━━━━━\u001b[0m \u001b[32m730.7/730.7 KB\u001b[0m \u001b[31m10.7 MB/s\u001b[0m eta \u001b[36m0:00:00\u001b[0m[31m8.4 MB/s\u001b[0m eta \u001b[36m0:00:01\u001b[0m\n",
      "\u001b[?25hInstalling collected packages: pytubefix\n",
      "Successfully installed pytubefix-8.12.2\n"
     ]
    }
   ],
   "source": [
    "!pip install pytubefix\n",
    "import multiprocessing\n",
    "from tqdm import tqdm\n",
    "from functools import partial\n",
    "import os\n",
    "import sys\n",
    "from pytube import YouTube\n",
    "import psutil\n",
    "import time\n",
    "import subprocess"
   ]
  },
  {
   "cell_type": "markdown",
   "metadata": {},
   "source": [
    "### Parallelism Concept"
   ]
  },
  {
   "cell_type": "code",
   "execution_count": 2,
   "metadata": {},
   "outputs": [],
   "source": [
    "def say_numbers():\n",
    "    # Count 1~5\n",
    "    for i in range(1,6,1):\n",
    "        print(f\"Number: #{i}\")\n",
    "        #sys.stdout.write(f\"Number: #{i}\\n\")\n",
    "        #sys.stdout.flush()\n",
    "        time.sleep(0.1)\n",
    "\n",
    "def say_alphabet():\n",
    "    # Count a~e\n",
    "    for i in range(ord(\"a\"), ord(\"f\")):\n",
    "        print(f\"Alphabet: {chr(i)}\")\n",
    "        #sys.stdout.write(f\"Alphabet: {chr(i)}\\n\")\n",
    "        #sys.stdout.flush()\n",
    "        time.sleep(0.1)"
   ]
  },
  {
   "cell_type": "code",
   "execution_count": 3,
   "metadata": {},
   "outputs": [
    {
     "name": "stdout",
     "output_type": "stream",
     "text": [
      "----------Sequential execution----------\n",
      "Number: #1\n",
      "Number: #2\n",
      "Number: #3\n",
      "Number: #4\n",
      "Number: #5\n",
      "Alphabet: a\n",
      "Alphabet: b\n",
      "Alphabet: c\n",
      "Alphabet: d\n",
      "Alphabet: e\n",
      "execution time : 1.0025553703308105\n"
     ]
    }
   ],
   "source": [
    "print(\"-\"*10+\"Sequential execution\"+\"-\"*10)\n",
    "seq = time.time()\n",
    "say_numbers()\n",
    "say_alphabet()\n",
    "print(\"execution time :\", time.time() - seq)"
   ]
  },
  {
   "cell_type": "code",
   "execution_count": 4,
   "metadata": {},
   "outputs": [
    {
     "name": "stdout",
     "output_type": "stream",
     "text": [
      "----------Parallel execution----------\n",
      "Number: #1\n",
      "Alphabet: a\n",
      "Number: #2\n",
      "Alphabet: b\n",
      "Number: #3Alphabet: c\n",
      "\n",
      "Number: #4Alphabet: d\n",
      "\n",
      "Number: #5Alphabet: e\n",
      "\n",
      "execution time : 0.5302982330322266\n"
     ]
    }
   ],
   "source": [
    "print(\"-\"*10+\"Parallel execution\"+\"-\"*10)\n",
    "par = time.time()   # 러닝타임 체크 시작\n",
    "p1 = multiprocessing.Process(target=say_numbers)\n",
    "p2 = multiprocessing.Process(target=say_alphabet)\n",
    "p1.start()\n",
    "p2.start()\n",
    "\n",
    "# join으로 대기하지 않으면 부모 process가 종료되어 자식이 zombie가 된다.\n",
    "p1.join()\n",
    "p2.join()\n",
    "\n",
    "print(\"execution time :\", time.time() - par)    # 러닝타임 체크 끝"
   ]
  },
  {
   "cell_type": "markdown",
   "metadata": {},
   "source": [
    "### Process control methods\n",
    "\n",
    "- **start()**: Sub process를 실행시킵니다.\n",
    "- **terminate()**: Process에게 SIGTERM을 보냅니다.\n",
    "- **join()**: Process가 종료될 때까지 기다립니다.\n",
    "- join([_timeout_]): 지정된 시간(초 단위)까지 기다립니다."
   ]
  },
  {
   "cell_type": "code",
   "execution_count": null,
   "metadata": {},
   "outputs": [
    {
     "name": "stdout",
     "output_type": "stream",
     "text": [
      "Process child process\n",
      "Child process counting started\n",
      "Number: #0\n",
      "Number: #1\n"
     ]
    }
   ],
   "source": [
    "# terminate() example\n",
    "# 아래의 코드는 좀비 프로세스를 생성시킵니다.\n",
    "# `watch -n1 \"ps aux|grep defunct\"` 명령어로 관찰 할 수 있습니다.\n",
    "\n",
    "def child_process_func():\n",
    "    print(\"Child process counting started\")\n",
    "    # Count 1~5\n",
    "    for i in range(10):\n",
    "        print(f\"Number: #{i}\")\n",
    "        time.sleep(0.5)\n",
    "    # print on normal termination only.\n",
    "    print(\"Normal termination\")\n",
    "\n",
    "\n",
    "p1 = multiprocessing.Process(target=child_process_func)\n",
    "print(\"Process child process\")\n",
    "p1.start()\n",
    "time.sleep(1)\n",
    "\n",
    "# Force kill process\n",
    "p1.terminate()\n"
   ]
  },
  {
   "cell_type": "code",
   "execution_count": 6,
   "metadata": {},
   "outputs": [
    {
     "name": "stdout",
     "output_type": "stream",
     "text": [
      "Process starting...\n",
      "Number: #1\n",
      "Number: #2\n",
      "Waiting for process to be terminated...\n",
      "Number: #3\n",
      "Number: #4\n",
      "Number: #5\n",
      "Process terminating...\n"
     ]
    }
   ],
   "source": [
    "# join()을 이용해서 좀비 프로세스가 발생하는 것을 방지 할 수 있습니다.\n",
    "\n",
    "def say_numbers():\n",
    "    # Count 1~5\n",
    "    for i in range(1,6,1):\n",
    "        print(f\"Number: #{i}\")\n",
    "        time.sleep(0.1)\n",
    "    print(\"Process terminating...\", flush=True)\n",
    "\n",
    "p1 = multiprocessing.Process(target=say_numbers)\n",
    "print(\"Process starting...\")\n",
    "p1.start()\n",
    "\n",
    "# Wait until process terminates\n",
    "print(\"Waiting for process to be terminated...\")\n",
    "p1.join()"
   ]
  },
  {
   "cell_type": "markdown",
   "metadata": {},
   "source": [
    "### IPC practice: Popen"
   ]
  },
  {
   "cell_type": "code",
   "execution_count": 7,
   "metadata": {},
   "outputs": [
    {
     "name": "stdout",
     "output_type": "stream",
     "text": [
      "Current process ID:28043\n",
      "Subprocess PID: 28421, PPID: 28043\n",
      "합계 48\n",
      "drwxrwxr-x  2 park park 4096  3월 11 11:46 intel\n",
      "drwx------  6 park park 4096  3월  5 15:58 snap\n",
      "drwxrwxr-x  4 park park 4096  3월  8 11:44 tensorflow_datasets\n",
      "drwxrwxr-x 13 park park 4096  3월 17 09:50 workspace\n",
      "drwxr-xr-x  2 park park 4096  3월  5 15:51 공개\n",
      "drwxr-xr-x  6 park park 4096  3월 17 09:22 다운로드\n",
      "drwxr-xr-x  2 park park 4096  3월  5 15:51 문서\n",
      "drwxr-xr-x  5 park park 4096  3월 14 14:38 바탕화면\n",
      "drwxr-xr-x  2 park park 4096  3월  5 15:51 비디오\n",
      "drwxr-xr-x  3 park park 4096  3월  5 16:12 사진\n",
      "drwxr-xr-x  2 park park 4096  3월  5 15:51 음악\n",
      "drwxr-xr-x  2 park park 4096  3월  5 15:51 템플릿\n",
      "\n"
     ]
    }
   ],
   "source": [
    "print(\"Current process ID:{}\".format(os.getpid()), flush=True)\n",
    "\n",
    "ps_process = subprocess.Popen(['bash', 'subprocess.sh'], stdout=subprocess.PIPE, stderr=subprocess.PIPE)\n",
    "stdout, stderr = ps_process.communicate()\n",
    "\n",
    "print(stdout.decode())"
   ]
  },
  {
   "cell_type": "markdown",
   "metadata": {},
   "source": [
    "### `pytube` `tqdm` example\n",
    "\n",
    "- UI와 다운로드가 message_queue로 통신"
   ]
  },
  {
   "cell_type": "markdown",
   "metadata": {},
   "source": [
    "- UI Process"
   ]
  },
  {
   "cell_type": "code",
   "execution_count": 8,
   "metadata": {},
   "outputs": [],
   "source": [
    "# UI 프로세스\n",
    "def draw_ui(message_queue):\n",
    "    print(\n",
    "        \"UI process starting ... PID:{}, PPID:{}\"\n",
    "        .format(\n",
    "            os.getpid(),\n",
    "            psutil.Process(os.getpid()).ppid()), flush=True)\n",
    "    prev = 0\n",
    "    tqdm_bar = None\n",
    "    while True:\n",
    "        message = message_queue.get()\n",
    "        if message[\"type\"] == \"on_progress\":\n",
    "            if tqdm_bar is None:\n",
    "                tqdm_bar = tqdm(total=100, desc=\"Downloading...\")\n",
    "            cur_rate = message[\"progress_rate\"]\n",
    "            tqdm_bar.update(int(cur_rate-prev))\n",
    "            prev = int(cur_rate)\n",
    "        elif message[\"type\"] == \"on_complete\":\n",
    "            if tqdm_bar is None:\n",
    "                tqdm_bar = tqdm(total=100, desc=\"Downloading...\")\n",
    "            tqdm_bar.update(100-prev)\n",
    "            tqdm_bar.close()\n",
    "            print(\"Completed!\")\n",
    "            break"
   ]
  },
  {
   "cell_type": "markdown",
   "metadata": {},
   "source": [
    "- Download Process"
   ]
  },
  {
   "cell_type": "code",
   "execution_count": 9,
   "metadata": {},
   "outputs": [],
   "source": [
    "# 다운로드 프로세스\n",
    "def on_progress(stream, chunk, bytes_remaining, message_queue):\n",
    "    total_size = stream.filesize\n",
    "    bytes_downloaded = total_size - bytes_remaining\n",
    "    progress = (bytes_downloaded / total_size) * 100\n",
    "    message_queue.put({\"type\":\"on_progress\", \"progress_rate\":progress})\n",
    "\n",
    "def on_complete(stream, file_handle, message_queue):\n",
    "    message_queue.put({\"type\":\"on_complete\"})\n",
    "\n",
    "def download(url, message_queue):\n",
    "    print(\n",
    "        \"Download process starting ... PID:{}, PPID:{}\"\n",
    "        .format(\n",
    "            os.getpid(),\n",
    "            psutil.Process(os.getpid()).ppid()), flush=True)\n",
    "    on_progress_with_MQ = partial(on_progress, message_queue=message_queue)\n",
    "    on_complete_with_MQ = partial(on_complete, message_queue=message_queue)\n",
    "    youtube_clip = YouTube(\n",
    "                        url,\n",
    "                        on_progress_callback=on_progress_with_MQ,\n",
    "                        on_complete_callback=on_complete_with_MQ)\n",
    "    youtube_stream = youtube_clip.streams.get_highest_resolution()\n",
    "    youtube_stream.download(\"videos\")"
   ]
  },
  {
   "cell_type": "markdown",
   "metadata": {},
   "source": [
    "- Multiprocessing"
   ]
  },
  {
   "cell_type": "code",
   "execution_count": 16,
   "metadata": {},
   "outputs": [
    {
     "name": "stdout",
     "output_type": "stream",
     "text": [
      "main process running ... PID:28043\n"
     ]
    },
    {
     "ename": "KeyboardInterrupt",
     "evalue": "",
     "output_type": "error",
     "traceback": [
      "\u001b[0;31m---------------------------------------------------------------------------\u001b[0m",
      "\u001b[0;31mKeyboardInterrupt\u001b[0m                         Traceback (most recent call last)",
      "Cell \u001b[0;32mIn[16], line 14\u001b[0m\n\u001b[1;32m     11\u001b[0m p1\u001b[38;5;241m.\u001b[39mstart()\n\u001b[1;32m     12\u001b[0m p2\u001b[38;5;241m.\u001b[39mstart()\n\u001b[0;32m---> 14\u001b[0m \u001b[43mp1\u001b[49m\u001b[38;5;241;43m.\u001b[39;49m\u001b[43mjoin\u001b[49m\u001b[43m(\u001b[49m\u001b[43m)\u001b[49m\n\u001b[1;32m     15\u001b[0m p2\u001b[38;5;241m.\u001b[39mjoin()\n",
      "File \u001b[0;32m/usr/lib/python3.10/multiprocessing/process.py:149\u001b[0m, in \u001b[0;36mBaseProcess.join\u001b[0;34m(self, timeout)\u001b[0m\n\u001b[1;32m    147\u001b[0m \u001b[38;5;28;01massert\u001b[39;00m \u001b[38;5;28mself\u001b[39m\u001b[38;5;241m.\u001b[39m_parent_pid \u001b[38;5;241m==\u001b[39m os\u001b[38;5;241m.\u001b[39mgetpid(), \u001b[38;5;124m'\u001b[39m\u001b[38;5;124mcan only join a child process\u001b[39m\u001b[38;5;124m'\u001b[39m\n\u001b[1;32m    148\u001b[0m \u001b[38;5;28;01massert\u001b[39;00m \u001b[38;5;28mself\u001b[39m\u001b[38;5;241m.\u001b[39m_popen \u001b[38;5;129;01mis\u001b[39;00m \u001b[38;5;129;01mnot\u001b[39;00m \u001b[38;5;28;01mNone\u001b[39;00m, \u001b[38;5;124m'\u001b[39m\u001b[38;5;124mcan only join a started process\u001b[39m\u001b[38;5;124m'\u001b[39m\n\u001b[0;32m--> 149\u001b[0m res \u001b[38;5;241m=\u001b[39m \u001b[38;5;28;43mself\u001b[39;49m\u001b[38;5;241;43m.\u001b[39;49m\u001b[43m_popen\u001b[49m\u001b[38;5;241;43m.\u001b[39;49m\u001b[43mwait\u001b[49m\u001b[43m(\u001b[49m\u001b[43mtimeout\u001b[49m\u001b[43m)\u001b[49m\n\u001b[1;32m    150\u001b[0m \u001b[38;5;28;01mif\u001b[39;00m res \u001b[38;5;129;01mis\u001b[39;00m \u001b[38;5;129;01mnot\u001b[39;00m \u001b[38;5;28;01mNone\u001b[39;00m:\n\u001b[1;32m    151\u001b[0m     _children\u001b[38;5;241m.\u001b[39mdiscard(\u001b[38;5;28mself\u001b[39m)\n",
      "File \u001b[0;32m/usr/lib/python3.10/multiprocessing/popen_fork.py:43\u001b[0m, in \u001b[0;36mPopen.wait\u001b[0;34m(self, timeout)\u001b[0m\n\u001b[1;32m     41\u001b[0m             \u001b[38;5;28;01mreturn\u001b[39;00m \u001b[38;5;28;01mNone\u001b[39;00m\n\u001b[1;32m     42\u001b[0m     \u001b[38;5;66;03m# This shouldn't block if wait() returned successfully.\u001b[39;00m\n\u001b[0;32m---> 43\u001b[0m     \u001b[38;5;28;01mreturn\u001b[39;00m \u001b[38;5;28;43mself\u001b[39;49m\u001b[38;5;241;43m.\u001b[39;49m\u001b[43mpoll\u001b[49m\u001b[43m(\u001b[49m\u001b[43mos\u001b[49m\u001b[38;5;241;43m.\u001b[39;49m\u001b[43mWNOHANG\u001b[49m\u001b[43m \u001b[49m\u001b[38;5;28;43;01mif\u001b[39;49;00m\u001b[43m \u001b[49m\u001b[43mtimeout\u001b[49m\u001b[43m \u001b[49m\u001b[38;5;241;43m==\u001b[39;49m\u001b[43m \u001b[49m\u001b[38;5;241;43m0.0\u001b[39;49m\u001b[43m \u001b[49m\u001b[38;5;28;43;01melse\u001b[39;49;00m\u001b[43m \u001b[49m\u001b[38;5;241;43m0\u001b[39;49m\u001b[43m)\u001b[49m\n\u001b[1;32m     44\u001b[0m \u001b[38;5;28;01mreturn\u001b[39;00m \u001b[38;5;28mself\u001b[39m\u001b[38;5;241m.\u001b[39mreturncode\n",
      "File \u001b[0;32m/usr/lib/python3.10/multiprocessing/popen_fork.py:27\u001b[0m, in \u001b[0;36mPopen.poll\u001b[0;34m(self, flag)\u001b[0m\n\u001b[1;32m     25\u001b[0m \u001b[38;5;28;01mif\u001b[39;00m \u001b[38;5;28mself\u001b[39m\u001b[38;5;241m.\u001b[39mreturncode \u001b[38;5;129;01mis\u001b[39;00m \u001b[38;5;28;01mNone\u001b[39;00m:\n\u001b[1;32m     26\u001b[0m     \u001b[38;5;28;01mtry\u001b[39;00m:\n\u001b[0;32m---> 27\u001b[0m         pid, sts \u001b[38;5;241m=\u001b[39m \u001b[43mos\u001b[49m\u001b[38;5;241;43m.\u001b[39;49m\u001b[43mwaitpid\u001b[49m\u001b[43m(\u001b[49m\u001b[38;5;28;43mself\u001b[39;49m\u001b[38;5;241;43m.\u001b[39;49m\u001b[43mpid\u001b[49m\u001b[43m,\u001b[49m\u001b[43m \u001b[49m\u001b[43mflag\u001b[49m\u001b[43m)\u001b[49m\n\u001b[1;32m     28\u001b[0m     \u001b[38;5;28;01mexcept\u001b[39;00m \u001b[38;5;167;01mOSError\u001b[39;00m:\n\u001b[1;32m     29\u001b[0m         \u001b[38;5;66;03m# Child process not yet created. See #1731717\u001b[39;00m\n\u001b[1;32m     30\u001b[0m         \u001b[38;5;66;03m# e.errno == errno.ECHILD == 10\u001b[39;00m\n\u001b[1;32m     31\u001b[0m         \u001b[38;5;28;01mreturn\u001b[39;00m \u001b[38;5;28;01mNone\u001b[39;00m\n",
      "\u001b[0;31mKeyboardInterrupt\u001b[0m: "
     ]
    }
   ],
   "source": [
    "# 미국은 어떻게 강대국이 되었나\n",
    "url = \"https://www.youtube.com/watch?v=S0NsxGrMg3Q\"\n",
    "\n",
    "print(\"main process running ... PID:{}\".format(os.getpid()), flush=True)\n",
    "\n",
    "message_queue = multiprocessing.Queue()\n",
    "# 멀티프로세싱 큐로 만들어야 전달이됨?\n",
    "p1 = multiprocessing.Process(target=draw_ui, args=(message_queue,)) #무조건 튜플로들어가야함\n",
    "p2 = multiprocessing.Process(target=download, args=(url, message_queue,))\n",
    "\n",
    "p1.start()\n",
    "p2.start()\n",
    "\n",
    "p1.join()\n",
    "p2.join()"
   ]
  }
 ],
 "metadata": {
  "kernelspec": {
   "display_name": "parallelism",
   "language": "python",
   "name": "parallelism"
  },
  "language_info": {
   "codemirror_mode": {
    "name": "ipython",
    "version": 3
   },
   "file_extension": ".py",
   "mimetype": "text/x-python",
   "name": "python",
   "nbconvert_exporter": "python",
   "pygments_lexer": "ipython3",
   "version": "3.10.12"
  },
  "orig_nbformat": 4
 },
 "nbformat": 4,
 "nbformat_minor": 2
}
